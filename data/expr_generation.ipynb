{
 "cells": [
  {
   "cell_type": "code",
   "execution_count": 1,
   "metadata": {},
   "outputs": [
    {
     "name": "stdout",
     "output_type": "stream",
     "text": [
      "+ 25112\n",
      "- 33997\n",
      "times 3251\n",
      "div 868\n",
      "! 1300\n",
      "0 6914\n",
      "1 26520\n",
      "2 26141\n",
      "3 10909\n",
      "4 7396\n",
      "5 3545\n",
      "6 3118\n",
      "7 2909\n",
      "8 3068\n",
      "9 3737\n"
     ]
    }
   ],
   "source": [
    "# split train and test set of math symbols\n",
    "import json\n",
    "import random\n",
    "import os\n",
    "\n",
    "random.seed(777)\n",
    "\n",
    "symbol_images_dir = 'symbol_images/'\n",
    "terminals = ['+', '-', 'times', 'div', '!'] + list(map(str, list(range(10))))\n",
    "sym_train_set = {}\n",
    "sym_val_set = {}\n",
    "sym_test_set = {}\n",
    "for tok in terminals:\n",
    "    imgs = os.listdir(symbol_images_dir + tok)\n",
    "    random.shuffle(imgs)\n",
    "    n_train = int(len(imgs) * 0.75)\n",
    "    n_val = int(len(imgs) * 0.05)\n",
    "    sym_train_set[tok] = sorted(imgs[:n_train])\n",
    "    sym_val_set[tok] = sorted(imgs[n_train:n_train+n_val])\n",
    "    sym_test_set[tok] = sorted(imgs[n_train+n_val:])\n",
    "    print(tok, len(imgs))\n",
    "json.dump(sym_train_set, open('sym_train.json', 'w'))\n",
    "json.dump(sym_val_set, open('sym_val.json', 'w'))\n",
    "json.dump(sym_test_set, open('sym_test.json', 'w'))"
   ]
  },
  {
   "cell_type": "code",
   "execution_count": 2,
   "metadata": {},
   "outputs": [],
   "source": [
    "from domain import SYM2PROG\n",
    "import sys\n",
    "sys.path.insert(0, \"..\")\n",
    "sys.path.insert(0, \"../semantics/dreamcoder\")\n",
    "\n",
    "from jointer import AST\n",
    "import os\n",
    "import random\n",
    "from PIL import Image\n",
    "import json\n",
    "random.seed(777)\n",
    "\n",
    "class Iterator:\n",
    "    def __init__(self, l, shuffle=True):\n",
    "        if shuffle: \n",
    "            random.shuffle(l)\n",
    "        self.list = l\n",
    "        self.current = -1\n",
    "        self.shuffle = shuffle\n",
    "    \n",
    "    def next(self):\n",
    "        self.current += 1\n",
    "        if self.current == len(self.list):\n",
    "            self.current = 0\n",
    "            if self.shuffle:\n",
    "                random.shuffle(self.list)\n",
    "        return self.list[self.current]\n",
    "\n",
    "splits = ['train', 'val', 'test']\n",
    "split2sym = {}\n",
    "for split in splits:\n",
    "    sym_set = {k:Iterator(v) for k,v in json.load(open('sym_%s.json'%split)).items()}\n",
    "    split2sym[split] = sym_set\n",
    "    \n",
    "\n",
    "def render_img(img_paths):\n",
    "    images = [Image.open(symbol_images_dir + x) for x in img_paths]\n",
    "    widths, heights = zip(*(i.size for i in images))\n",
    "\n",
    "    total_width = sum(widths)\n",
    "    max_height = max(heights)\n",
    "\n",
    "    new_im = Image.new('RGB', (total_width, max_height))\n",
    "\n",
    "    x_offset = 0\n",
    "    for im in images:\n",
    "        new_im.paste(im, (x_offset,0))\n",
    "        x_offset += im.size[0]\n",
    "    return new_im\n",
    "\n",
    "def generate_img_paths(tokens, sym_set):\n",
    "    img_paths = []\n",
    "    for tok in tokens:\n",
    "        if tok == '*': tok = 'times'\n",
    "        if tok == '/': tok = 'div'\n",
    "        \n",
    "        img_name = sym_set[tok].next()\n",
    "        img_paths.append(os.path.join(tok, img_name))   \n",
    "        \n",
    "    return img_paths"
   ]
  },
  {
   "cell_type": "code",
   "execution_count": 3,
   "metadata": {},
   "outputs": [
    {
     "name": "stdout",
     "output_type": "stream",
     "text": [
      "['0', '1', '2', '3', '4', '5', '6', '7', '8', '9']\n",
      "['+', '-', '*', '/', '!']\n"
     ]
    }
   ],
   "source": [
    "min_num = 0\n",
    "max_num = 10\n",
    "num_list = list(map(str, range(min_num, max_num)))\n",
    "nonzero_num_list = [x for x in num_list if x != '0']\n",
    "op_list = ['+', '-', '*', '/', '!']\n",
    "nonfactorial_op_list = ['+', '-', '*', '/']\n",
    "\n",
    "print(num_list)\n",
    "print(op_list)"
   ]
  },
  {
   "cell_type": "code",
   "execution_count": 4,
   "metadata": {},
   "outputs": [
    {
     "name": "stdout",
     "output_type": "stream",
     "text": [
      "6/4+2! 4 [1, 3, 1, -1, 5, 3]\n"
     ]
    }
   ],
   "source": [
    "def enumerate_expression(n_op):\n",
    "    expressions = [[x] for x in num_list]\n",
    "    for _ in range(n_op):\n",
    "        new = []\n",
    "        for expr in expressions:\n",
    "            for op in op_list:\n",
    "                if op == '!':\n",
    "                    new.append(expr + [op])\n",
    "                else:\n",
    "                    for num in num_list:\n",
    "                        new.append(expr + [op, num])\n",
    "        expressions = new\n",
    "    expressions = [\"\".join(expr) for expr in expressions]\n",
    "    return expressions\n",
    "\n",
    "def sample_expression(n_op, n_instances):\n",
    "    def sample():\n",
    "        expr = [random.choice(num_list)]\n",
    "        for _ in range(n_op):\n",
    "            selected_op = random.choice(op_list)\n",
    "            expr.append(selected_op)\n",
    "            if selected_op == '!':\n",
    "                continue\n",
    "            else:\n",
    "                selected_num = random.choice(num_list)\n",
    "                expr.append(selected_num)\n",
    "        return \"\".join(expr)\n",
    "    \n",
    "    expressions = set()\n",
    "    while len(expressions) < n_instances:\n",
    "        expressions.add(sample())\n",
    "    return list(expressions)\n",
    "\n",
    "def generate_expression(n_op, n_instances=None):\n",
    "    if n_op <= 2:\n",
    "        expressions = enumerate_expression(n_op)\n",
    "    else:\n",
    "        assert n_instances is not None\n",
    "        expressions = sample_expression(n_op, n_instances)\n",
    "    random.shuffle(expressions)\n",
    "    return expressions\n",
    "    \n",
    "def eval_expr(expr, head):\n",
    "    ast = AST(expr, head, SYM2PROG)\n",
    "    return ast.res()\n",
    "    \n",
    "def eval_expr_by_eval(expr):\n",
    "    expr_for_eval = []\n",
    "    for symbol in expr:\n",
    "        if symbol == '!':\n",
    "            expr_for_eval[-1] = 'math.factorial(' + expr_for_eval[-1] + ')'\n",
    "        elif symbol == '/':\n",
    "            expr_for_eval.append('//')\n",
    "        else:\n",
    "            expr_for_eval.append(symbol)\n",
    "#     try:\n",
    "#         res = eval(\"\".join(expr_for_eval))\n",
    "#     except OverflowError:\n",
    "#         res = None\n",
    "    res = eval(\"\".join(expr_for_eval))\n",
    "    return res\n",
    "\n",
    "def parse_expr(expr):\n",
    "    values = []\n",
    "    operators = []\n",
    "    priority = {'+': 0, '-': 0, '*': 1, '/': 1, '!': 2}\n",
    "    arity = {'+': 2, '-': 2, '*': 2, '/': 2, '!': 1}\n",
    "\n",
    "    head = [-1] * len(expr)\n",
    "    for (i,sym) in enumerate(expr):\n",
    "        if sym.isdigit():\n",
    "            values.append(i)\n",
    "        else:\n",
    "            while len(operators) > 0 and priority[expr[operators[-1]]] >= priority[sym]:\n",
    "                op = operators.pop()\n",
    "                for _ in range(arity[expr[op]]):\n",
    "                    head[values.pop()] = op\n",
    "                values.append(op)\n",
    "            operators.append(i)\n",
    "\n",
    "    while len(operators) > 0:\n",
    "        op = operators.pop()\n",
    "        for _ in range(arity[expr[op]]):\n",
    "            head[values.pop()] = op\n",
    "        values.append(op)\n",
    "\n",
    "    \n",
    "    root_op = values.pop()\n",
    "    head[root_op] = -1\n",
    "    assert len(values) == 0\n",
    "\n",
    "    return head\n",
    "\n",
    "expr = '6/4+2!'\n",
    "head = parse_expr(expr)\n",
    "res = eval_expr(expr, head)\n",
    "print(expr, res, head)"
   ]
  },
  {
   "cell_type": "code",
   "execution_count": 5,
   "metadata": {},
   "outputs": [
    {
     "name": "stdout",
     "output_type": "stream",
     "text": [
      "16810\n",
      "12822\n",
      "3988\n"
     ]
    }
   ],
   "source": [
    "expressions = generate_expression(2)\n",
    "expressions = [(x, parse_expr(x)) for x in expressions]\n",
    "expressions = [(expr, head, eval_expr(expr, head)) for expr, head in expressions]\n",
    "print(len(expressions))\n",
    "print(len([x for x in expressions if x[2] != 0]))\n",
    "print(len([x for x in expressions if x[2] == 0]))"
   ]
  },
  {
   "cell_type": "code",
   "execution_count": 6,
   "metadata": {},
   "outputs": [
    {
     "name": "stdout",
     "output_type": "stream",
     "text": [
      "0 10\n",
      "1 410\n",
      "2 16810\n",
      "3 2000\n",
      "4 2000\n",
      "5 2000\n",
      "6 2000\n",
      "7 2000\n",
      "8 2000\n",
      "9 2000\n",
      "10 2000\n",
      "[('train', 2420), ('val', 18420), ('test', 18420)]\n"
     ]
    }
   ],
   "source": [
    "random.seed(12306)\n",
    "max_op = 10\n",
    "max_train_op = 3\n",
    "max_train = int(1e3)\n",
    "train_exprs = []\n",
    "val_exprs = []\n",
    "test_exprs = []\n",
    "for n_op in range(max_op + 1):\n",
    "    expressions = generate_expression(n_op, 2 * max_train)\n",
    "    print(n_op, len(expressions))\n",
    "    expressions = [(x, parse_expr(x)) for x in expressions]\n",
    "    expressions = [(expr, head, eval_expr(expr, head)) for expr, head in expressions]\n",
    "    if n_op <= max_train_op:\n",
    "        train_exprs.append(expressions[:max_train])\n",
    "    val_exprs.append(expressions[:2 * max_train])\n",
    "    test_exprs.append(expressions[:2 * max_train])\n",
    "    \n",
    "split2exprs = {'train': train_exprs, 'val': val_exprs, 'test': test_exprs}\n",
    "print([(k, sum([len(x) for x in v])) for k, v in split2exprs.items()])"
   ]
  },
  {
   "cell_type": "code",
   "execution_count": 7,
   "metadata": {},
   "outputs": [
    {
     "name": "stdout",
     "output_type": "stream",
     "text": [
      "1000\n",
      "[('1/1!*7', [1, 4, 3, 1, -1, 4], 7), ('4-9-4+5', [1, 3, 1, 5, 3, -1, 5], 5), ('8/4*0!', [1, 3, 1, -1, 5, 3], 2), ('6+8/1*5', [1, -1, 3, 5, 3, 1, 5], 46), ('1*5+5+0', [1, 3, 1, 5, 3, -1, 5], 10)]\n"
     ]
    }
   ],
   "source": [
    "split = 'train'\n",
    "dataset = split2exprs[split][-1]\n",
    "print(len(dataset))\n",
    "print(dataset[:5])"
   ]
  },
  {
   "cell_type": "code",
   "execution_count": 8,
   "metadata": {},
   "outputs": [
    {
     "name": "stdout",
     "output_type": "stream",
     "text": [
      "train 21930\n",
      "val 11325\n",
      "test 113250\n"
     ]
    }
   ],
   "source": [
    "import math\n",
    "\n",
    "split2dataset = {}\n",
    "for split in splits:\n",
    "    sym_set = split2sym[split]\n",
    "    exprs = split2exprs[split]\n",
    "    dataset = []\n",
    "    idx = 0\n",
    "    for n_op, expr_list in enumerate(exprs):\n",
    "        n_instance = 10 if n_op > 0 else 100\n",
    "        if split == 'val':\n",
    "            n_instance *= 0.1\n",
    "        for e in expr_list:\n",
    "            if e[2] is None: continue\n",
    "            # if the result is 0 and n_op > 0, we only keep 0.1 instances.\n",
    "            percent = 1\n",
    "            if e[2] == 0 and n_op == 1 and '-' in e[0]:\n",
    "                percent = 1\n",
    "            for _ in range(int(math.ceil(n_instance * percent))):\n",
    "                img_paths = generate_img_paths(e[0], sym_set)\n",
    "                sample = {'id': '%s_%08d'%(split, idx), 'img_paths':img_paths, \n",
    "                      'expr': e[0], 'head': e[1], 'res': e[2]}\n",
    "                idx += 1\n",
    "                dataset.append(sample)\n",
    "    split2dataset[split] = dataset\n",
    "    print(split, len(dataset))"
   ]
  },
  {
   "cell_type": "code",
   "execution_count": 9,
   "metadata": {},
   "outputs": [
    {
     "name": "stdout",
     "output_type": "stream",
     "text": [
      "21930\n",
      "16890\n",
      "100\n",
      "132\n",
      "0 5040\n",
      "1 2410\n",
      "2 1310\n",
      "3 1000\n",
      "4 1070\n",
      "5 970\n",
      "6 890\n",
      "7 1030\n",
      "8 940\n",
      "9 860\n",
      "10 600\n",
      "11 380\n",
      "12 380\n",
      "13 240\n",
      "14 270\n",
      "15 300\n",
      "16 280\n",
      "17 170\n",
      "18 150\n",
      "19 120\n",
      "[{'id': 'train_00000000', 'img_paths': ['7/exp17183.jpg'], 'expr': '7', 'head': [-1], 'res': 7}, {'id': 'train_00000001', 'img_paths': ['7/exp35551.jpg'], 'expr': '7', 'head': [-1], 'res': 7}, {'id': 'train_00000002', 'img_paths': ['7/exp39817.jpg'], 'expr': '7', 'head': [-1], 'res': 7}, {'id': 'train_00000003', 'img_paths': ['7/exp54651.jpg'], 'expr': '7', 'head': [-1], 'res': 7}, {'id': 'train_00000004', 'img_paths': ['7/7_57212.jpg'], 'expr': '7', 'head': [-1], 'res': 7}]\n"
     ]
    }
   ],
   "source": [
    "dataset = split2dataset['train']\n",
    "print(len(dataset))\n",
    "print(len([0 for x in dataset if x['res'] != 0]))\n",
    "print(len([0 for x in dataset if x['res'] == 0 and len(x['expr']) == 1]))\n",
    "print(len({x['res'] for x in dataset}))\n",
    "for i in range(20):\n",
    "    print(i, len([0 for x in dataset if x['res'] == i]))\n",
    "\n",
    "print(dataset[:5])"
   ]
  },
  {
   "cell_type": "code",
   "execution_count": 10,
   "metadata": {},
   "outputs": [
    {
     "name": "stdout",
     "output_type": "stream",
     "text": [
      "train 21930 864\n",
      "0/6+0-4 [1, 3, 1, 5, 3, -1, 5] 0\n"
     ]
    },
    {
     "data": {
      "image/png": "[encoded data removed]",
      "text/plain": [
       "<PIL.Image.Image image mode=RGB size=315x45 at 0x7FF3140874E0>"
      ]
     },
     "metadata": {},
     "output_type": "display_data"
    },
    {
     "name": "stdout",
     "output_type": "stream",
     "text": [
      "2*5+0-8 [1, 3, 1, 5, 3, -1, 5] 2\n"
     ]
    },
    {
     "data": {
      "image/png": "[encoded data removed]",
      "text/plain": [
       "<PIL.Image.Image image mode=RGB size=315x45 at 0x7FF26E0D5EB8>"
      ]
     },
     "metadata": {},
     "output_type": "display_data"
    },
    {
     "name": "stdout",
     "output_type": "stream",
     "text": [
      "8*2-0+1 [1, 3, 1, 5, 3, -1, 5] 17\n"
     ]
    },
    {
     "data": {
      "image/png": "[encoded data removed]",
      "text/plain": [
       "<PIL.Image.Image image mode=RGB size=315x45 at 0x7FF26E0D5C88>"
      ]
     },
     "metadata": {},
     "output_type": "display_data"
    },
    {
     "name": "stdout",
     "output_type": "stream",
     "text": [
      "8*5-2 [1, 3, 1, -1, 3] 38\n"
     ]
    },
    {
     "data": {
      "image/png": "[encoded data removed]",
      "text/plain": [
       "<PIL.Image.Image image mode=RGB size=225x45 at 0x7FF3140874E0>"
      ]
     },
     "metadata": {},
     "output_type": "display_data"
    },
    {
     "name": "stdout",
     "output_type": "stream",
     "text": [
      "0*1*0 [1, 3, 1, -1, 3] 0\n"
     ]
    },
    {
     "data": {
      "image/png": "[encoded data removed]",
      "text/plain": [
       "<PIL.Image.Image image mode=RGB size=225x45 at 0x7FF314087E80>"
      ]
     },
     "metadata": {},
     "output_type": "display_data"
    },
    {
     "name": "stdout",
     "output_type": "stream",
     "text": [
      "val 11325 978\n",
      "7*4!+2/1 [1, 4, 3, 1, -1, 6, 4, 6] 170\n"
     ]
    },
    {
     "data": {
      "image/png": "[encoded data removed]",
      "text/plain": [
       "<PIL.Image.Image image mode=RGB size=360x45 at 0x7FF314087B70>"
      ]
     },
     "metadata": {},
     "output_type": "display_data"
    },
    {
     "name": "stdout",
     "output_type": "stream",
     "text": [
      "8/3/8 [1, 3, 1, -1, 3] 1\n"
     ]
    },
    {
     "data": {
      "image/png": "[encoded data removed]",
      "text/plain": [
       "<PIL.Image.Image image mode=RGB size=225x45 at 0x7FF26E0D5C88>"
      ]
     },
     "metadata": {},
     "output_type": "display_data"
    },
    {
     "name": "stdout",
     "output_type": "stream",
     "text": [
      "1/8*2*6+4*8+8 [1, 3, 1, 5, 3, 7, 5, 11, 9, 7, 9, -1, 11] 52\n"
     ]
    },
    {
     "data": {
      "image/png": "[encoded data removed]",
      "text/plain": [
       "<PIL.Image.Image image mode=RGB size=585x45 at 0x7FF26E0D5EB8>"
      ]
     },
     "metadata": {},
     "output_type": "display_data"
    },
    {
     "name": "stdout",
     "output_type": "stream",
     "text": [
      "6*6+8+0/4-5*1! [1, 3, 1, 5, 3, 9, 7, 5, 7, -1, 11, 9, 13, 11] 39\n"
     ]
    },
    {
     "data": {
      "image/png": "[encoded data removed]",
      "text/plain": [
       "<PIL.Image.Image image mode=RGB size=630x45 at 0x7FF3140874E0>"
      ]
     },
     "metadata": {},
     "output_type": "display_data"
    },
    {
     "name": "stdout",
     "output_type": "stream",
     "text": [
      "2+9-1/8/3-2-5! [1, 3, 1, 9, 5, 7, 5, 3, 7, 11, 9, -1, 13, 11] 0\n"
     ]
    },
    {
     "data": {
      "image/png": "[encoded data removed]",
      "text/plain": [
       "<PIL.Image.Image image mode=RGB size=630x45 at 0x7FF26E0B8CC0>"
      ]
     },
     "metadata": {},
     "output_type": "display_data"
    },
    {
     "name": "stdout",
     "output_type": "stream",
     "text": [
      "test 113250 978\n",
      "7-0/7*9 [1, -1, 3, 5, 3, 1, 5] 7\n"
     ]
    },
    {
     "data": {
      "image/png": "[encoded data removed]",
      "text/plain": [
       "<PIL.Image.Image image mode=RGB size=315x45 at 0x7FF314087B70>"
      ]
     },
     "metadata": {},
     "output_type": "display_data"
    },
    {
     "name": "stdout",
     "output_type": "stream",
     "text": [
      "9/7-4/9+8*1!!-3+5 [1, 3, 1, 7, 5, 3, 5, 13, 9, 7, 11, 12, 9, 15, 13, -1, 15] 11\n"
     ]
    },
    {
     "data": {
      "image/png": "[encoded data removed]",
      "text/plain": [
       "<PIL.Image.Image image mode=RGB size=765x45 at 0x7FF26E0D5C88>"
      ]
     },
     "metadata": {},
     "output_type": "display_data"
    },
    {
     "name": "stdout",
     "output_type": "stream",
     "text": [
      "1/2/8-2+2 [1, 3, 1, 5, 3, 7, 5, -1, 7] 2\n"
     ]
    },
    {
     "data": {
      "image/png": "[encoded data removed]",
      "text/plain": [
       "<PIL.Image.Image image mode=RGB size=405x45 at 0x7FF26E0B8CC0>"
      ]
     },
     "metadata": {},
     "output_type": "display_data"
    },
    {
     "name": "stdout",
     "output_type": "stream",
     "text": [
      "2/1 [1, -1, 1] 2\n"
     ]
    },
    {
     "data": {
      "image/png": "[encoded data removed]",
      "text/plain": [
       "<PIL.Image.Image image mode=RGB size=135x45 at 0x7FF26E0D5C88>"
      ]
     },
     "metadata": {},
     "output_type": "display_data"
    },
    {
     "name": "stdout",
     "output_type": "stream",
     "text": [
      "4+3/9 [1, -1, 3, 1, 3] 5\n"
     ]
    },
    {
     "data": {
      "image/png": "[encoded data removed]",
      "text/plain": [
       "<PIL.Image.Image image mode=RGB size=225x45 at 0x7FF26E006390>"
      ]
     },
     "metadata": {},
     "output_type": "display_data"
    }
   ],
   "source": [
    "# Visualize data\n",
    "import numpy as np\n",
    "for split in splits:\n",
    "    dataset = split2dataset[split]\n",
    "    print(split, len(dataset), np.max([x['res'] for x in dataset]))\n",
    "    for _ in range(5):\n",
    "        sample = random.choice(dataset)\n",
    "        img_paths = sample['img_paths']\n",
    "        img = render_img(img_paths)\n",
    "        print(\"\".join(sample['expr']), sample['head'], sample['res'])\n",
    "        display(img)"
   ]
  },
  {
   "cell_type": "code",
   "execution_count": 11,
   "metadata": {},
   "outputs": [],
   "source": [
    "for split in splits:\n",
    "    json.dump(split2dataset[split], open('expr_%s.json'%split, 'w'))"
   ]
  },
  {
   "cell_type": "code",
   "execution_count": 14,
   "metadata": {},
   "outputs": [
    {
     "name": "stdout",
     "output_type": "stream",
     "text": [
      "7/1/7-2 = -1.0\n"
     ]
    },
    {
     "data": {
      "image/png": "[encoded data removed]",
      "text/plain": [
       "<PIL.Image.Image image mode=RGB size=315x45 at 0x7FF26DFAFDD8>"
      ]
     },
     "metadata": {},
     "output_type": "display_data"
    }
   ],
   "source": [
    "img = Image.open(symbol_images_dir + '2/2_849.jpg')\n",
    "print(img.size)\n",
    "display(img)\n",
    "\n",
    "expr = '7/1/7-2'\n",
    "img_paths = generate_img_paths(expr, sym_set=sym_set)\n",
    "img = render_img(img_paths)\n",
    "print(expr,'=', eval(expr))\n",
    "display(img)"
   ]
  }
 ],
 "metadata": {
  "kernelspec": {
   "display_name": "cll",
   "language": "python",
   "name": "cll"
  },
  "language_info": {
   "codemirror_mode": {
    "name": "ipython",
    "version": 3
   },
   "file_extension": ".py",
   "mimetype": "text/x-python",
   "name": "python",
   "nbconvert_exporter": "python",
   "pygments_lexer": "ipython3",
   "version": "3.6.9"
  }
 },
 "nbformat": 4,
 "nbformat_minor": 2
}
