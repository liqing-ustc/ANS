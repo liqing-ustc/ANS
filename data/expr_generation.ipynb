{
 "cells": [
  {
   "cell_type": "code",
   "execution_count": 1,
   "metadata": {},
   "outputs": [
    {
     "name": "stdout",
     "output_type": "stream",
     "text": [
      "+ 25112\n",
      "- 33997\n",
      "times 3251\n",
      "div 868\n",
      "! 1300\n",
      "0 6914\n",
      "1 26520\n",
      "2 26141\n",
      "3 10909\n",
      "4 7396\n",
      "5 3545\n",
      "6 3118\n",
      "7 2909\n",
      "8 3068\n",
      "9 3737\n"
     ]
    }
   ],
   "source": [
    "# split train and test set of math symbols\n",
    "import json\n",
    "import random\n",
    "import os\n",
    "\n",
    "random.seed(777)\n",
    "\n",
    "symbol_images_dir = 'symbol_images/'\n",
    "terminals = ['+', '-', 'times', 'div', '!'] + list(map(str, list(range(10))))\n",
    "sym_train_set = {}\n",
    "sym_val_set = {}\n",
    "sym_test_set = {}\n",
    "for tok in terminals:\n",
    "    imgs = os.listdir(symbol_images_dir + tok)\n",
    "    random.shuffle(imgs)\n",
    "    n_train = int(len(imgs) * 0.75)\n",
    "    n_val = int(len(imgs) * 0.05)\n",
    "    sym_train_set[tok] = sorted(imgs[:n_train])\n",
    "    sym_val_set[tok] = sorted(imgs[n_train:n_train+n_val])\n",
    "    sym_test_set[tok] = sorted(imgs[n_train+n_val:])\n",
    "    print(tok, len(imgs))\n",
    "json.dump(sym_train_set, open('sym_train.json', 'w'))\n",
    "json.dump(sym_val_set, open('sym_val.json', 'w'))\n",
    "json.dump(sym_test_set, open('sym_test.json', 'w'))"
   ]
  },
  {
   "cell_type": "code",
   "execution_count": 2,
   "metadata": {},
   "outputs": [],
   "source": [
    "from domain import SYM2PROG\n",
    "import sys\n",
    "sys.path.insert(0, \"..\")\n",
    "sys.path.insert(0, \"../semantics/dreamcoder\")\n",
    "\n",
    "from jointer import AST\n",
    "import os\n",
    "import random\n",
    "from PIL import Image\n",
    "import json\n",
    "random.seed(777)\n",
    "\n",
    "class Iterator:\n",
    "    def __init__(self, l, shuffle=True):\n",
    "        if shuffle: \n",
    "            random.shuffle(l)\n",
    "        self.list = l\n",
    "        self.current = -1\n",
    "        self.shuffle = shuffle\n",
    "    \n",
    "    def next(self):\n",
    "        self.current += 1\n",
    "        if self.current == len(self.list):\n",
    "            self.current = 0\n",
    "            if self.shuffle:\n",
    "                random.shuffle(self.list)\n",
    "        return self.list[self.current]\n",
    "\n",
    "splits = ['train', 'val', 'test']\n",
    "split2sym = {}\n",
    "for split in splits:\n",
    "    sym_set = {k:Iterator(v) for k,v in json.load(open('sym_%s.json'%split)).items()}\n",
    "    split2sym[split] = sym_set\n",
    "    \n",
    "\n",
    "def render_img(img_paths):\n",
    "    images = [Image.open(symbol_images_dir + x) for x in img_paths]\n",
    "    widths, heights = zip(*(i.size for i in images))\n",
    "\n",
    "    total_width = sum(widths)\n",
    "    max_height = max(heights)\n",
    "\n",
    "    new_im = Image.new('RGB', (total_width, max_height))\n",
    "\n",
    "    x_offset = 0\n",
    "    for im in images:\n",
    "        new_im.paste(im, (x_offset,0))\n",
    "        x_offset += im.size[0]\n",
    "    return new_im\n",
    "\n",
    "def generate_img_paths(tokens, sym_set):\n",
    "    img_paths = []\n",
    "    for tok in tokens:\n",
    "        if tok == '*': tok = 'times'\n",
    "        if tok == '/': tok = 'div'\n",
    "        \n",
    "        img_name = sym_set[tok].next()\n",
    "        img_paths.append(os.path.join(tok, img_name))   \n",
    "        \n",
    "    return img_paths"
   ]
  },
  {
   "cell_type": "code",
   "execution_count": 3,
   "metadata": {},
   "outputs": [
    {
     "name": "stdout",
     "output_type": "stream",
     "text": [
      "['0', '1', '2', '3', '4', '5', '6', '7', '8', '9']\n",
      "['+', '-', '*', '/']\n"
     ]
    }
   ],
   "source": [
    "min_num = 0\n",
    "max_num = 10\n",
    "num_list = list(map(str, range(min_num, max_num)))\n",
    "nonzero_num_list = [x for x in num_list if x != '0']\n",
    "op_list = ['+', '-', '*', '/']\n",
    "\n",
    "print(num_list)\n",
    "print(op_list)"
   ]
  },
  {
   "cell_type": "code",
   "execution_count": 4,
   "metadata": {},
   "outputs": [
    {
     "name": "stdout",
     "output_type": "stream",
     "text": [
      "6/4+2! (4, [6, 2, 4, 4, 2, 2]) [1, 3, 1, -1, 5, 3]\n"
     ]
    }
   ],
   "source": [
    "def enumerate_expression(n_op):\n",
    "    expressions = [[x] for x in num_list]\n",
    "    for _ in range(n_op):\n",
    "        new = []\n",
    "        for expr in expressions:\n",
    "            for op in op_list:\n",
    "                if op == '!':\n",
    "                    new.append(expr + [op])\n",
    "                else:\n",
    "                    for num in num_list:\n",
    "                        new.append(expr + [op, num])\n",
    "        expressions = new\n",
    "    expressions = [\"\".join(expr) for expr in expressions]\n",
    "    return expressions\n",
    "\n",
    "def sample_expression(n_op, n_instances):\n",
    "    def sample():\n",
    "        expr = [random.choice(num_list)]\n",
    "        for _ in range(n_op):\n",
    "            selected_op = random.choice(op_list)\n",
    "            expr.append(selected_op)\n",
    "            if selected_op == '!':\n",
    "                continue\n",
    "            else:\n",
    "                selected_num = random.choice(num_list)\n",
    "                expr.append(selected_num)\n",
    "        return \"\".join(expr)\n",
    "    \n",
    "    expressions = set()\n",
    "    while len(expressions) < n_instances:\n",
    "        expressions.add(sample())\n",
    "    return list(expressions)\n",
    "\n",
    "def generate_expression(n_op, n_instances=None):\n",
    "    if n_op <= 2:\n",
    "        expressions = enumerate_expression(n_op)\n",
    "    else:\n",
    "        assert n_instances is not None\n",
    "        expressions = sample_expression(n_op, n_instances)\n",
    "    random.shuffle(expressions)\n",
    "    return expressions\n",
    "    \n",
    "def eval_expr(expr, head):\n",
    "    ast = AST(expr, head, SYM2PROG)\n",
    "    return ast.res(), ast.res_all()\n",
    "    \n",
    "def eval_expr_by_eval(expr):\n",
    "    expr_for_eval = []\n",
    "    for symbol in expr:\n",
    "        if symbol == '!':\n",
    "            expr_for_eval[-1] = 'math.factorial(' + expr_for_eval[-1] + ')'\n",
    "        elif symbol == '/':\n",
    "            expr_for_eval.append('//')\n",
    "        else:\n",
    "            expr_for_eval.append(symbol)\n",
    "#     try:\n",
    "#         res = eval(\"\".join(expr_for_eval))\n",
    "#     except OverflowError:\n",
    "#         res = None\n",
    "    res = eval(\"\".join(expr_for_eval))\n",
    "    return res\n",
    "\n",
    "def parse_expr(expr):\n",
    "    values = []\n",
    "    operators = []\n",
    "    priority = {'+': 0, '-': 0, '*': 1, '/': 1, '!': 2}\n",
    "    arity = {'+': 2, '-': 2, '*': 2, '/': 2, '!': 1}\n",
    "\n",
    "    head = [-1] * len(expr)\n",
    "    for (i,sym) in enumerate(expr):\n",
    "        if sym.isdigit():\n",
    "            values.append(i)\n",
    "        else:\n",
    "            while len(operators) > 0 and priority[expr[operators[-1]]] >= priority[sym]:\n",
    "                op = operators.pop()\n",
    "                for _ in range(arity[expr[op]]):\n",
    "                    head[values.pop()] = op\n",
    "                values.append(op)\n",
    "            operators.append(i)\n",
    "\n",
    "    while len(operators) > 0:\n",
    "        op = operators.pop()\n",
    "        for _ in range(arity[expr[op]]):\n",
    "            head[values.pop()] = op\n",
    "        values.append(op)\n",
    "\n",
    "    \n",
    "    root_op = values.pop()\n",
    "    head[root_op] = -1\n",
    "    assert len(values) == 0\n",
    "\n",
    "    return head\n",
    "\n",
    "expr = '6/4+2!'\n",
    "head = parse_expr(expr)\n",
    "res = eval_expr(expr, head)\n",
    "print(expr, res, head)"
   ]
  },
  {
   "cell_type": "code",
   "execution_count": 5,
   "metadata": {},
   "outputs": [
    {
     "name": "stdout",
     "output_type": "stream",
     "text": [
      "16000\n",
      "12107\n",
      "3893\n"
     ]
    }
   ],
   "source": [
    "expressions = generate_expression(2)\n",
    "expressions = [(x, parse_expr(x)) for x in expressions]\n",
    "expressions = [(expr, head, *eval_expr(expr, head)) for expr, head in expressions]\n",
    "print(len(expressions))\n",
    "print(len([x for x in expressions if x[2] != 0]))\n",
    "print(len([x for x in expressions if x[2] == 0]))"
   ]
  },
  {
   "cell_type": "code",
   "execution_count": 6,
   "metadata": {},
   "outputs": [
    {
     "name": "stdout",
     "output_type": "stream",
     "text": [
      "0 10\n",
      "1 400\n",
      "2 16000\n",
      "3 2000\n",
      "4 2000\n",
      "5 2000\n",
      "6 2000\n",
      "7 2000\n",
      "8 2000\n",
      "9 2000\n",
      "10 2000\n",
      "[('train', 4410), ('val', 18410), ('test', 18410)]\n"
     ]
    }
   ],
   "source": [
    "random.seed(12306)\n",
    "max_op = 10\n",
    "max_train_op = 5\n",
    "max_train = int(1e3)\n",
    "train_exprs = []\n",
    "val_exprs = []\n",
    "test_exprs = []\n",
    "for n_op in range(max_op + 1):\n",
    "    expressions = generate_expression(n_op, 2 * max_train)\n",
    "    print(n_op, len(expressions))\n",
    "    expressions = [(x, parse_expr(x)) for x in expressions]\n",
    "    expressions = [(expr, head, *eval_expr(expr, head)) for expr, head in expressions]\n",
    "    if n_op <= max_train_op:\n",
    "        train_exprs.append(expressions[:max_train])\n",
    "    val_exprs.append(expressions[:2 * max_train])\n",
    "    test_exprs.append(expressions[:2 * max_train])\n",
    "    \n",
    "split2exprs = {'train': train_exprs, 'val': val_exprs, 'test': test_exprs}\n",
    "print([(k, sum([len(x) for x in v])) for k, v in split2exprs.items()])"
   ]
  },
  {
   "cell_type": "code",
   "execution_count": 7,
   "metadata": {},
   "outputs": [
    {
     "name": "stdout",
     "output_type": "stream",
     "text": [
      "1000\n",
      "[('2+7*3/4', [1, -1, 3, 5, 3, 1, 5], 8, [2, 8, 7, 21, 3, 6, 4]), ('0/9/2/6', [1, 3, 1, 5, 3, -1, 5], 0, [0, 0, 9, 0, 2, 0, 6]), ('9*9-2-0', [1, 3, 1, 5, 3, -1, 5], 79, [9, 81, 9, 79, 2, 79, 0]), ('6-2-1-2', [1, 3, 1, 5, 3, -1, 5], 1, [6, 4, 2, 3, 1, 1, 2]), ('0/1*3/6', [1, 3, 1, 5, 3, -1, 5], 0, [0, 0, 1, 0, 3, 0, 6])]\n"
     ]
    }
   ],
   "source": [
    "split = 'train'\n",
    "dataset = split2exprs[split][3]\n",
    "print(len(dataset))\n",
    "print(dataset[:5])"
   ]
  },
  {
   "cell_type": "code",
   "execution_count": 8,
   "metadata": {},
   "outputs": [
    {
     "name": "stdout",
     "output_type": "stream",
     "text": [
      "train 39390\n",
      "val 15811\n",
      "test 158110\n"
     ]
    }
   ],
   "source": [
    "import math\n",
    "\n",
    "max_value_train = 100\n",
    "max_value_test = 1000\n",
    "split2dataset = {}\n",
    "for split in splits:\n",
    "    max_value = max_value_train if split == 'train' else max_value_test\n",
    "    sym_set = split2sym[split]\n",
    "    exprs = split2exprs[split]\n",
    "    dataset = []\n",
    "    idx = 0\n",
    "    for n_op, expr_list in enumerate(exprs):\n",
    "        n_instance = 10 if n_op > 0 else 100\n",
    "        if split == 'val':\n",
    "            n_instance *= 0.1\n",
    "        for e in expr_list:\n",
    "            if e[2] is None or max(e[3]) > max_value: continue\n",
    "            for _ in range(int(math.ceil(n_instance))):\n",
    "                img_paths = generate_img_paths(e[0], sym_set)\n",
    "                sample = {'id': '%s_%08d'%(split, idx), 'img_paths':img_paths, \n",
    "                      'expr': e[0], 'head': e[1], 'res': e[2], 'res_all': e[3]}\n",
    "                idx += 1\n",
    "                dataset.append(sample)\n",
    "    split2dataset[split] = dataset\n",
    "    print(split, len(dataset))"
   ]
  },
  {
   "cell_type": "code",
   "execution_count": 9,
   "metadata": {},
   "outputs": [
    {
     "name": "stdout",
     "output_type": "stream",
     "text": [
      "29000\n",
      "[(0, 10390), (1, 3270), (2, 2140), (3, 1740), (4, 1830), (5, 1540), (6, 1600), (7, 1540), (8, 1740), (9, 1560), (10, 920), (11, 850), (12, 740), (13, 670), (14, 670), (15, 510), (16, 430), (17, 300), (18, 560), (19, 350), (20, 340), (21, 350), (22, 210), (23, 240), (24, 300), (25, 180), (26, 170), (27, 160), (28, 160), (29, 150), (30, 160), (31, 70), (32, 150), (33, 90), (34, 70), (35, 110), (36, 170), (37, 70), (38, 70), (39, 90), (40, 230), (41, 50), (42, 170), (43, 50), (44, 60), (45, 100), (46, 70), (47, 60), (48, 110), (49, 70), (50, 70), (51, 70), (52, 30), (53, 40), (54, 110), (55, 60), (56, 190), (57, 40), (58, 70), (59, 40), (60, 20), (61, 30), (62, 40), (63, 90), (64, 50), (65, 70), (66, 20), (68, 10), (69, 60), (70, 50), (71, 30), (72, 110), (73, 30), (74, 40), (77, 40), (78, 10), (79, 40), (80, 10), (81, 40), (82, 30), (83, 20), (84, 20), (85, 10), (86, 30), (87, 30), (89, 20), (90, 30), (92, 10), (93, 10), (94, 10), (95, 10), (96, 10), (99, 10)]\n",
      "[{'id': 'train_00000968', 'img_paths': ['8/8_28644.jpg'], 'expr': '8', 'head': [-1], 'res': 8, 'res_all': [8]}, {'id': 'train_00032176', 'img_paths': ['2/2_66505.jpg', 'times/exp6988.jpg', '0/exp88510.jpg', 'div/div_1779.jpg', '6/exp97150.jpg', 'times/exp38425.jpg', '0/0_62940.jpg', 'div/exp52554.jpg', '7/7_79158.jpg', '+/exp32223.jpg', '4/4_113096.jpg'], 'expr': '2*0/6*0/7+4', 'head': [1, 3, 1, 5, 3, 7, 5, 9, 7, -1, 9], 'res': 4, 'res_all': [2, 0, 0, 0, 6, 0, 0, 0, 7, 4, 4]}, {'id': 'train_00034650', 'img_paths': ['8/exp57215.jpg', 'times/exp1507.jpg', '1/exp31097.jpg', 'div/exp49104.jpg', '8/8_39512.jpg', '-/exp86383.jpg', '2/exp94771.jpg', 'times/exp23736.jpg', '4/4_12416.jpg', 'times/exp46091.jpg', '4/4_14173.jpg'], 'expr': '8*1/8-2*4*4', 'head': [1, 3, 1, 5, 3, -1, 7, 9, 7, 5, 9], 'res': 0, 'res_all': [8, 8, 1, 1, 8, 0, 2, 8, 4, 32, 4]}]\n",
      "11824\n",
      "[(0, 3987), (1, 866), (2, 662), (3, 570), (4, 569), (5, 530), (6, 557), (7, 552), (8, 570), (9, 544), (10, 401), (11, 310), (12, 318), (13, 287), (14, 286), (15, 249), (16, 203), (17, 173), (18, 215), (19, 152), (20, 154), (21, 135), (22, 119), (23, 93), (24, 123), (25, 99), (26, 95), (27, 95), (28, 80), (29, 78), (30, 79), (31, 67), (32, 82), (33, 71), (34, 56), (35, 70), (36, 74), (37, 50), (38, 39), (39, 51), (40, 78), (41, 43), (42, 58), (43, 42), (44, 33), (45, 48), (46, 40), (47, 38), (48, 50), (49, 48), (50, 36), (51, 33), (52, 31), (53, 33), (54, 50), (55, 33), (56, 67), (57, 31), (58, 20), (59, 29), (60, 25), (61, 21), (62, 18), (63, 35), (64, 33), (65, 25), (66, 16), (67, 10), (68, 21), (69, 18), (70, 14), (71, 9), (72, 39), (73, 13), (74, 16), (75, 9), (76, 15), (77, 13), (78, 9), (79, 10), (80, 22), (81, 21), (82, 14), (83, 7), (84, 16), (85, 9), (86, 14), (87, 13), (88, 7), (89, 8), (90, 11), (91, 7), (92, 6), (93, 6), (94, 7), (95, 5), (96, 14), (97, 5), (98, 7), (99, 7), (100, 3), (101, 7), (102, 17), (103, 3), (104, 6), (105, 6), (106, 5), (107, 5), (108, 10), (109, 4), (110, 8), (111, 1), (112, 7), (113, 4), (114, 6), (115, 3), (116, 5), (117, 4), (118, 6), (119, 3), (120, 5), (121, 5), (122, 4), (123, 4), (124, 5), (125, 1), (126, 12), (127, 7), (128, 4), (129, 6), (130, 3), (131, 3), (132, 3), (133, 2), (134, 4), (135, 3), (136, 3), (137, 2), (138, 5), (139, 5), (140, 6), (141, 3), (142, 1), (143, 2), (144, 8), (145, 3), (146, 3), (148, 3), (149, 1), (151, 1), (152, 4), (153, 1), (154, 1), (155, 1), (156, 2), (157, 2), (158, 3), (159, 1), (160, 4), (161, 3), (162, 2), (163, 2), (164, 2), (165, 3), (166, 4), (167, 3), (168, 5), (169, 4), (170, 2), (171, 3), (173, 3), (174, 1), (175, 1), (176, 4), (177, 2), (179, 5), (180, 6), (181, 1), (182, 3), (184, 1), (186, 4), (187, 3), (188, 2), (189, 3), (191, 3), (192, 5), (193, 1), (194, 3), (196, 2), (197, 2), (198, 2), (199, 2), (200, 6), (201, 1), (202, 1), (203, 3), (205, 1), (206, 1), (207, 1), (208, 1), (210, 1), (211, 2), (212, 1), (214, 3), (215, 4), (216, 8), (217, 5), (218, 3), (219, 2), (220, 2), (221, 1), (222, 2), (223, 1), (224, 1), (225, 4), (226, 1), (227, 1), (229, 1), (231, 1), (232, 3), (233, 2), (234, 1), (235, 2), (236, 1), (237, 4), (238, 1), (240, 4), (242, 3), (243, 2), (245, 2), (246, 2), (249, 1), (251, 1), (252, 3), (254, 1), (255, 2), (256, 5), (258, 1), (261, 1), (262, 1), (265, 1), (267, 1), (269, 1), (270, 3), (272, 1), (273, 2), (274, 2), (276, 2), (278, 1), (279, 3), (280, 1), (282, 2), (283, 1), (285, 3), (286, 1), (287, 3), (288, 4), (290, 1), (291, 3), (292, 1), (293, 1), (296, 3), (306, 3), (308, 1), (310, 1), (311, 1), (312, 1), (314, 1), (315, 2), (316, 1), (317, 2), (319, 1), (320, 1), (321, 1), (322, 1), (323, 1), (324, 2), (325, 1), (326, 2), (327, 1), (330, 3), (331, 1), (332, 1), (334, 1), (335, 1), (336, 2), (337, 1), (342, 1), (343, 1), (346, 1), (348, 1), (351, 1), (354, 1), (358, 1), (359, 1), (360, 1), (361, 3), (362, 3), (366, 1), (367, 1), (369, 1), (370, 1), (373, 1), (374, 1), (375, 1), (380, 1), (381, 1), (382, 1), (383, 1), (384, 1), (385, 1), (386, 1), (387, 1), (389, 1), (392, 1), (393, 1), (395, 1), (396, 1), (397, 1), (400, 1), (401, 1), (404, 1), (405, 1), (408, 2), (410, 1), (413, 1), (415, 2), (422, 1), (425, 2), (426, 1), (431, 1), (432, 2), (434, 1), (441, 2), (442, 2), (446, 1), (448, 2), (450, 2), (451, 1), (455, 1), (456, 1), (459, 1), (460, 1), (468, 1), (473, 1), (479, 1), (481, 1), (483, 1), (486, 1), (489, 1), (491, 1), (496, 1), (501, 2), (503, 1), (504, 3), (505, 1), (506, 3), (509, 1), (510, 1), (511, 2), (512, 1), (513, 1), (515, 1), (519, 1), (528, 1), (532, 1), (540, 1), (541, 1), (546, 1), (547, 1), (561, 1), (570, 2), (571, 2), (572, 2), (576, 1), (583, 1), (584, 1), (586, 1), (589, 3), (590, 1), (601, 1), (607, 1), (612, 1), (614, 1), (624, 1), (630, 1), (639, 1), (643, 1), (648, 1), (653, 1), (656, 2), (657, 1), (682, 1), (692, 1), (703, 1), (716, 1), (729, 1), (731, 1), (732, 1), (733, 2), (749, 1), (751, 1), (753, 1), (759, 1), (765, 1), (768, 1), (769, 1), (783, 1), (804, 1), (808, 1), (810, 1), (816, 2), (836, 1), (848, 1), (850, 1), (860, 1), (864, 1), (866, 1), (867, 1), (879, 1), (880, 1), (885, 1), (900, 1), (902, 1), (926, 1), (972, 1), (974, 1)]\n",
      "[{'id': 'val_00005528', 'img_paths': ['1/exp10086.jpg', 'div/exp41869.jpg', '8/exp56260.jpg', 'div/exp47753.jpg', '3/exp67243.jpg', 'div/exp37597.jpg', '2/exp30673.jpg', 'div/exp16035.jpg', '7/exp51761.jpg'], 'expr': '1/8/3/2/7', 'head': [1, 3, 1, 5, 3, 7, 5, -1, 7], 'res': 1, 'res_all': [1, 1, 8, 1, 3, 1, 2, 1, 7]}, {'id': 'val_00011534', 'img_paths': ['5/5_40898.jpg', '+/exp7675.jpg', '3/exp93758.jpg', '-/exp50051.jpg', '9/exp3402.jpg', 'div/exp57013.jpg', '6/6_53822.jpg', 'div/div_18148.jpg', '1/1_32366.jpg', 'times/exp21092.jpg', '7/exp85002.jpg', 'div/div_45801.jpg', '8/exp37754.jpg', '+/+_74739.jpg', '1/1_44465.jpg', '-/exp46329.jpg', '7/7_57069.jpg'], 'expr': '5+3-9/6/1*7/8+1-7', 'head': [1, 3, 1, 13, 5, 7, 5, 9, 7, 11, 9, 3, 11, 15, 13, -1, 15], 'res': 0, 'res_all': [5, 8, 3, 6, 9, 2, 6, 2, 1, 14, 7, 2, 8, 7, 1, 0, 7]}, {'id': 'val_00009548', 'img_paths': ['2/2_74800.jpg', '+/exp13980.jpg', '2/2_60090.jpg', 'times/times_42258.jpg', '6/exp59993.jpg', 'times/times_74134.jpg', '3/exp51896.jpg', '+/exp93945.jpg', '4/exp6420.jpg', 'div/exp50164.jpg', '3/exp85683.jpg', 'div/exp48612.jpg', '1/exp17767.jpg', '+/exp83566.jpg', '9/exp35608.jpg'], 'expr': '2+2*6*3+4/3/1+9', 'head': [1, 7, 3, 5, 3, 1, 5, 13, 9, 11, 9, 7, 11, -1, 13], 'res': 49, 'res_all': [2, 38, 2, 12, 6, 36, 3, 40, 4, 2, 3, 2, 1, 49, 9]}]\n"
     ]
    }
   ],
   "source": [
    "from collections import Counter\n",
    "\n",
    "dataset = split2dataset['train']\n",
    "print(len([0 for x in dataset if x['res'] != 0]))\n",
    "res_counts = Counter([x['res'] for x in dataset])\n",
    "print(sorted(list(res_counts.items())))\n",
    "print(random.sample(dataset, k=3))\n",
    "\n",
    "dataset = split2dataset['val']\n",
    "print(len([0 for x in dataset if x['res'] != 0]))\n",
    "res_counts = Counter([x['res'] for x in dataset])\n",
    "print(sorted(list(res_counts.items())))\n",
    "print(random.sample(dataset, k=3))"
   ]
  },
  {
   "cell_type": "code",
   "execution_count": 10,
   "metadata": {},
   "outputs": [
    {
     "name": "stdout",
     "output_type": "stream",
     "text": [
      "train 39390 99\n",
      "4+9+6 [1, 3, 1, -1, 3] 19\n"
     ]
    },
    {
     "data": {
      "image/png": "[encoded data removed]",
      "text/plain": [
       "<PIL.Image.Image image mode=RGB size=225x45 at 0x7F0B4FA75F98>"
      ]
     },
     "metadata": {},
     "output_type": "display_data"
    },
    {
     "name": "stdout",
     "output_type": "stream",
     "text": [
      "1-3*2 [1, -1, 3, 1, 3] 0\n"
     ]
    },
    {
     "data": {
      "image/png": "[encoded data removed]",
      "text/plain": [
       "<PIL.Image.Image image mode=RGB size=225x45 at 0x7F0B4FA757B8>"
      ]
     },
     "metadata": {},
     "output_type": "display_data"
    },
    {
     "name": "stdout",
     "output_type": "stream",
     "text": [
      "3/1*8 [1, 3, 1, -1, 3] 24\n"
     ]
    },
    {
     "data": {
      "image/png": "[encoded data removed]",
      "text/plain": [
       "<PIL.Image.Image image mode=RGB size=225x45 at 0x7F0B4FC3A400>"
      ]
     },
     "metadata": {},
     "output_type": "display_data"
    },
    {
     "name": "stdout",
     "output_type": "stream",
     "text": [
      "7/5/3+3 [1, 3, 1, 5, 3, -1, 5] 4\n"
     ]
    },
    {
     "data": {
      "image/png": "[encoded data removed]",
      "text/plain": [
       "<PIL.Image.Image image mode=RGB size=315x45 at 0x7F0B4FC510B8>"
      ]
     },
     "metadata": {},
     "output_type": "display_data"
    },
    {
     "name": "stdout",
     "output_type": "stream",
     "text": [
      "6/8-9/7-8 [1, 3, 1, 7, 5, 3, 5, -1, 7] 0\n"
     ]
    },
    {
     "data": {
      "image/png": "[encoded data removed]",
      "text/plain": [
       "<PIL.Image.Image image mode=RGB size=405x45 at 0x7F0B4FA757B8>"
      ]
     },
     "metadata": {},
     "output_type": "display_data"
    },
    {
     "name": "stdout",
     "output_type": "stream",
     "text": [
      "val 15811 974\n",
      "0-5-0-3/5/8/7/9*0+4 [1, 3, 1, 5, 3, 17, 7, 9, 7, 11, 9, 13, 11, 15, 13, 5, 15, -1, 17] 4\n"
     ]
    },
    {
     "data": {
      "image/png": "[encoded data removed]",
      "text/plain": [
       "<PIL.Image.Image image mode=RGB size=855x45 at 0x7F0B4FC0AC50>"
      ]
     },
     "metadata": {},
     "output_type": "display_data"
    },
    {
     "name": "stdout",
     "output_type": "stream",
     "text": [
      "3*1-6/9 [1, 3, 1, -1, 5, 3, 5] 2\n"
     ]
    },
    {
     "data": {
      "image/png": "[encoded data removed]",
      "text/plain": [
       "<PIL.Image.Image image mode=RGB size=315x45 at 0x7F0B4FA75EB8>"
      ]
     },
     "metadata": {},
     "output_type": "display_data"
    },
    {
     "name": "stdout",
     "output_type": "stream",
     "text": [
      "5*0*4/3+5-4+6*9-1/7/2 [1, 3, 1, 5, 3, 7, 5, 9, 7, 11, 9, 15, 13, 11, 13, -1, 17, 19, 17, 15, 19] 54\n"
     ]
    },
    {
     "data": {
      "image/png": "[encoded data removed]",
      "text/plain": [
       "<PIL.Image.Image image mode=RGB size=945x45 at 0x7F0B4FA757B8>"
      ]
     },
     "metadata": {},
     "output_type": "display_data"
    },
    {
     "name": "stdout",
     "output_type": "stream",
     "text": [
      "3*3/6+7/7/9 [1, 3, 1, 5, 3, -1, 7, 9, 7, 5, 9] 3\n"
     ]
    },
    {
     "data": {
      "image/png": "[encoded data removed]",
      "text/plain": [
       "<PIL.Image.Image image mode=RGB size=495x45 at 0x7F0B4FB9DA20>"
      ]
     },
     "metadata": {},
     "output_type": "display_data"
    },
    {
     "name": "stdout",
     "output_type": "stream",
     "text": [
      "6*2-8/3 [1, 3, 1, -1, 5, 3, 5] 9\n"
     ]
    },
    {
     "data": {
      "image/png": "[encoded data removed]",
      "text/plain": [
       "<PIL.Image.Image image mode=RGB size=315x45 at 0x7F0B4FC510B8>"
      ]
     },
     "metadata": {},
     "output_type": "display_data"
    },
    {
     "name": "stdout",
     "output_type": "stream",
     "text": [
      "test 158110 974\n",
      "3+2/7-5 [1, 5, 3, 1, 3, -1, 5] 0\n"
     ]
    },
    {
     "data": {
      "image/png": "[encoded data removed]",
      "text/plain": [
       "<PIL.Image.Image image mode=RGB size=315x45 at 0x7F0B4FB9D908>"
      ]
     },
     "metadata": {},
     "output_type": "display_data"
    },
    {
     "name": "stdout",
     "output_type": "stream",
     "text": [
      "1+1-3-3*0*6+5+9+4 [1, 3, 1, 5, 3, 11, 7, 9, 7, 5, 9, 13, 11, 15, 13, -1, 15] 18\n"
     ]
    },
    {
     "data": {
      "image/png": "[encoded data removed]",
      "text/plain": [
       "<PIL.Image.Image image mode=RGB size=765x45 at 0x7F0B4FB9DC18>"
      ]
     },
     "metadata": {},
     "output_type": "display_data"
    },
    {
     "name": "stdout",
     "output_type": "stream",
     "text": [
      "3*2-2 [1, 3, 1, -1, 3] 4\n"
     ]
    },
    {
     "data": {
      "image/png": "[encoded data removed]",
      "text/plain": [
       "<PIL.Image.Image image mode=RGB size=225x45 at 0x7F0B4FB9D908>"
      ]
     },
     "metadata": {},
     "output_type": "display_data"
    },
    {
     "name": "stdout",
     "output_type": "stream",
     "text": [
      "4+1+4*1/3/6/3-1 [1, 3, 1, 13, 5, 7, 5, 9, 7, 11, 9, 3, 11, -1, 13] 5\n"
     ]
    },
    {
     "data": {
      "image/png": "[encoded data removed]",
      "text/plain": [
       "<PIL.Image.Image image mode=RGB size=675x45 at 0x7F0B4FB9D6D8>"
      ]
     },
     "metadata": {},
     "output_type": "display_data"
    },
    {
     "name": "stdout",
     "output_type": "stream",
     "text": [
      "8/8+1-3*8*9+3/2*1 [1, 3, 1, 5, 3, 11, 7, 9, 7, 5, 9, -1, 13, 15, 13, 11, 15] 2\n"
     ]
    },
    {
     "data": {
      "image/png": "[encoded data removed]",
      "text/plain": [
       "<PIL.Image.Image image mode=RGB size=765x45 at 0x7F0B4FA757B8>"
      ]
     },
     "metadata": {},
     "output_type": "display_data"
    }
   ],
   "source": [
    "# Visualize data\n",
    "import numpy as np\n",
    "for split in splits:\n",
    "    dataset = split2dataset[split]\n",
    "    print(split, len(dataset), np.max([x['res'] for x in dataset]))\n",
    "    for _ in range(5):\n",
    "        sample = random.choice(dataset)\n",
    "        img_paths = sample['img_paths']\n",
    "        img = render_img(img_paths)\n",
    "        print(\"\".join(sample['expr']), sample['head'], sample['res'])\n",
    "        display(img)"
   ]
  },
  {
   "cell_type": "code",
   "execution_count": 11,
   "metadata": {},
   "outputs": [],
   "source": [
    "train_exprs = {x['expr'] for x in split2dataset['train']}\n",
    "max_len_train = max([len(x) for x in train_exprs])\n",
    "for split in ['val', 'test']:\n",
    "    dataset = split2dataset[split]\n",
    "    for sample in dataset:\n",
    "        expr = sample['expr']\n",
    "        if expr in train_exprs:\n",
    "            evaluation = 1\n",
    "        elif len(expr) <= max_len_train:\n",
    "            max_value = max(sample['res_all'])\n",
    "            if max_value <= max_value_train:\n",
    "                evaluation = 2\n",
    "            else:\n",
    "                evaluation = 3\n",
    "        else:\n",
    "            max_value = max(sample['res_all'])\n",
    "            if max_value <= max_value_train:\n",
    "                evaluation = 4\n",
    "            else:\n",
    "                evaluation = 5\n",
    "        sample['eval'] = evaluation"
   ]
  },
  {
   "cell_type": "code",
   "execution_count": 12,
   "metadata": {
    "scrolled": false
   },
   "outputs": [
    {
     "name": "stdout",
     "output_type": "stream",
     "text": [
      "[(1, 24.91), (2, 22.05), (3, 1.87), (4, 45.38), (5, 5.78)]\n",
      "{'4*6*5', '2*8*6+7-2', '1+5/3*7*1*9', '8*5*3/6*5/8', '2-7*6*5', '3*8*2*9', '4-7*9*6-1-4', '7*3*3*7', '8*7/1*4-8', '5*5*9-5+7*6', '4*7*1*8-0', '2*7*8', '4*8/2*5*7+1', '3*7*7/2+2', '4+4*6*6', '6*9*9', '7-9-7*5*6*4', '1-1-4*6*8/7', '5*5*9*4', '3*7*7*2-3*7', '7*3*9', '9*8*2-2+5-1', '5/3*7*1*8-6', '8*7+2*7*4', '7*8*9+2', '5+8*3*8*0', '4-0-6+4*5*7', '6*4*8', '5*8*4/9*7/7', '9*2*4*5+4/9', '3-7*6*5-5+7', '9*5*6', '8/1*5*8', '6*8+3*7*9', '4-9*8*3', '7+5*8*4', '1-8*2*9-3', '3+8*6*7/8-0', '1/8/4+6*7*3', '4*2*6*3', '8+6*6*3/2', '7*7/1*3-8', '3+9*7*3+1*2', '1*9*2*8', '6*7*7-5-4+0', '6+5*7*8', '1*9*2*9+0-3', '8*8*5+6-4+9', '7*3*5+4*7-9', '7*5*8/5', '3*5*9-9', '7*6*4/4-5', '1+3+5*4*9/2', '5*2*8-3*9*4', '5*6/7*6*6-4', '1/9*8*1*2*7', '8*5*2+5*4+4', '9/2/9+8*6*8', '3*6*8-1', '1+8*3*6/5', '5*4*6*3+2', '2-4+5*5*9', '1-9*4*4-3', '8+3*8*8', '4*0+8+6*9*7', '0-3-5*5*3*7', '6*7*4*0', '8-8*9*9', '6-9-5*6*7', '6*6*5/4-4', '4*8*7+7+4+0', '8*8*4', '7-2*4*4*5-9', '9*2*6/8/6', '3+9*2*7/2-7', '9*8*9-5', '7*2*9*1', '9/6-8*5*5-8', '8*4*3+8-9*7', '3*9*9/9', '7*3*9*5*0/2', '7+7*5*8', '9*5*4', '7*8*7', '4*5*9', '3*6*5*7/1', '8*5*6', '6*6*9+9+9', '9*8*1*9', '7*5*9/4+8-1', '4*3-9*7*4-3', '7-8+8-4*9*3', '2*7*8+2*4*5', '6*8*3+7*3*6', '9*9+6+5*7-7', '9*7*8+8+7', '6*3*9/3-9-8', '8/1*7*5', '3*9*5', '5*3/1*9', '7*9/3*9/7', '3/6-9/5*8*8', '4*7*7/9/2-5', '3+1+8-9*6*7', '5/3*3*5*6', '1*3-9*3*6', '7-9*6*2', '9-4*8*8-2/8', '3-9*6*9', '8*8+8*8-5-6', '2*7*8+9/7', '5*9*7+1', '9-8*9*2*3-5', '1+8*7*4', '4*7*6', '6-9-7*4*9', '5*5*8/3', '8*4*6*2*0', '5*8*9+5/8', '7*2*9', '5*7*9+1*6', '4+8+8*9+5*6', '9/1-5*9*6', '6*8+6*9', '7*7*5', '0-9/1/3*7*5', '6*7*4*1', '0+3*7*8+2/6', '9*9*9', '5*5*4+3+3/5', '8-1*3*1*6*9', '9*9*3-4*2-0', '8+5/1+4*7*8', '7*9*6+3', '5*5*9', '8*2*4*1*7', '4+0-2*2*5*7', '4+6-5*5*9/5', '7*4*4*0/3*5', '9*2*7/7', '3-2*5*9*4-6', '5*5*6-1-8', '6*4*6/9*4', '8+9*4*6*0-1', '9*5*3/6+9-8', '1-1*9*2*2*8', '9*2*6', '9*3*8/3+8', '3+6+9*5*9+8', '7*9*5-7', '4-5-9*7*6', '4*7*7/2+4', '1*7*2*9', '5*7*7+7', '5*5*5*7+4', '1+9+5*6*4/1', '7+2*5*2*5', '1*4+8*5*7+6', '6*5*6-7', '4/7*1+6*9*6', '9*4*9-1/2*0', '9*5*5-7', '3-6*7*9+0', '6+6/6+8*9*2', '3/9-5*3*7', '3*9*4-2+0*9', '5*3*8+6', '7*3*2*3-0+6', '9*9+5*7*5', '7*2*9*4', '7*7*2*1+3', '7*9*2/4-8', '6*6*3-2-5+0', '3*8*9+8-9+0', '1-7*4*6*3/6', '1-4*4*3*8+1', '0+5*7*4', '7*6*9-2/5*5', '3/5-4*6*7', '4*7-2+4+9*8', '7-1+4*8*5/7', '7*6*3*0', '6-4*5*7', '9*9*9+4', '1-5-9/1*9*2', '7*2*8+7-8-9', '8+9*4*3*1', '0/3+9*8*6-7', '7+5*7*6-0*7', '0-5+8*6*5', '3+6*5*8-5', '6*3*9+9*1', '6*4*6/1/6+3', '3*7*4-4+8*9', '1/4+9*4*4', '6*3*7+2', '6/7*7*5*8-4', '1+8*8*5+6/1', '7*8*6-5+5*4', '8*6*8', '4*7*8+5/1/6', '3*5*9-4/4', '6*6*5/7', '7-4*4*9', '0/1-1*4*8*9', '9*8*8-5', '5+5*7*2*2-1', '0-6*6*9', '3+9*7*5+8', '2*6*7*7*1+1', '6-9*3*4', '4*6*3*8', '7*3*5', '6*7*5+1', '4*5*6/9', '8*6*3', '1-3+9*9*6/4', '5*8*7/9-7', '5+7*7*3', '8-3/1*6*8', '4*9*1*9', '9*2*7+5', '8+8*6*6', '9*9*9+2', '1+5*9*8-1*2', '8-8*4*4-5+9', '5/8*4*4/1*8', '7*9*3', '9*3*4/7-2+9', '6*6*3*7-7', '4*4*6/6*9', '3*8*8*4', '3+7*3*9*3', '7*7*3*1-9', '3*8*9', '5+2*8+9*2*8', '4*4*5+8*1*9', '9+2-6+7*9*3', '9*4*3/5*6+0', '8-3*4*9*1+1', '5*6*7*0/7/6', '9+7-5*6*7', '7*9*8+9', '5*8*6/3+0', '2*8*1*7', '8+3*9*7/7/6', '4-8*7*8', '3-5/1*3*9', '6+7*3*7', '6*5*8', '3*4*8+5', '8*9*3-2', '1+6*5*4', '7*5*7/1-8/1', '2+0+8+7*8*4', '2*6+6*8*2-0', '3*9*8-0*3', '9*2*9+5*5/9', '0-2*9*7+5', '7-6*5*9/7', '1-7*5*7-0', '5-2+3*6*7', '3*4-8*9*6+7', '8+9*9*6-3', '8+3*4*9', '9*5/3*6+2+9', '0+6*7*4+1', '1-6+3*5*7', '7*6*6', '9*6*4', '8*3*8', '7*9*2', '7/1*3*8+2-7', '1*3-7*8*2/4', '3*9+9*9', '0+9*6*5', '0-4*1*8*4', '6*5*6+2*1-6', '6*3*9*5', '4*7*7', '1/1*9*7*7', '5*7*8+8', '4+7*8*6*0', '8-2+6*6*9', '7*6*8+2-7*8', '7*2*6*6/1-3', '9*7*6+9', '9+5-3*9*8-5', '5*5*8-8/8/6', '9*4*4-6*9', '5-1-5+7*8*9', '9*4*5+4-8', '8*6*9+1/1+9', '8*8/4*7-7-6', '3*9*6*6', '8*8+7+6*7'}\n"
     ]
    }
   ],
   "source": [
    "counts = sorted(Counter([x['eval'] for x in split2dataset['test']]).items())\n",
    "total_count = sum([c for _, c in counts])\n",
    "counts = [(k, round(v/total_count*100, 2)) for k, v in counts]\n",
    "print(counts)\n",
    "print({x['expr'] for x in split2dataset['test'] if x['eval'] == 3})"
   ]
  },
  {
   "cell_type": "code",
   "execution_count": 13,
   "metadata": {},
   "outputs": [],
   "source": [
    "for split in splits:\n",
    "    json.dump(split2dataset[split], open('expr_%s.json'%split, 'w'))"
   ]
  },
  {
   "cell_type": "code",
   "execution_count": 14,
   "metadata": {},
   "outputs": [
    {
     "name": "stdout",
     "output_type": "stream",
     "text": [
      "(45, 45)\n"
     ]
    },
    {
     "data": {
      "image/png": "[encoded data removed]",
      "text/plain": [
       "<PIL.JpegImagePlugin.JpegImageFile image mode=L size=45x45 at 0x7F0B4FC26DD8>"
      ]
     },
     "metadata": {},
     "output_type": "display_data"
    },
    {
     "name": "stdout",
     "output_type": "stream",
     "text": [
      "7/1/7-2 = -1.0\n"
     ]
    },
    {
     "data": {
      "image/png": "[encoded data removed]",
      "text/plain": [
       "<PIL.Image.Image image mode=RGB size=315x45 at 0x7F0B4FC26BE0>"
      ]
     },
     "metadata": {},
     "output_type": "display_data"
    }
   ],
   "source": [
    "img = Image.open(symbol_images_dir + '2/2_849.jpg')\n",
    "print(img.size)\n",
    "display(img)\n",
    "\n",
    "expr = '7/1/7-2'\n",
    "img_paths = generate_img_paths(expr, sym_set=sym_set)\n",
    "img = render_img(img_paths)\n",
    "print(expr,'=', eval(expr))\n",
    "display(img)"
   ]
  }
 ],
 "metadata": {
  "kernelspec": {
   "display_name": "cll",
   "language": "python",
   "name": "cll"
  },
  "language_info": {
   "codemirror_mode": {
    "name": "ipython",
    "version": 3
   },
   "file_extension": ".py",
   "mimetype": "text/x-python",
   "name": "python",
   "nbconvert_exporter": "python",
   "pygments_lexer": "ipython3",
   "version": "3.6.9"
  }
 },
 "nbformat": 4,
 "nbformat_minor": 2
}
