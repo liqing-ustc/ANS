{
 "cells": [
  {
   "cell_type": "code",
   "execution_count": 1,
   "metadata": {},
   "outputs": [
    {
     "name": "stdout",
     "output_type": "stream",
     "text": [
      "+ 25112\n",
      "- 33997\n",
      "times 3251\n",
      "div 868\n",
      "( 14294\n",
      ") 14355\n",
      "! 1300\n",
      "0 6914\n",
      "1 26520\n",
      "2 26141\n",
      "3 10909\n",
      "4 7396\n",
      "5 3545\n",
      "6 3118\n",
      "7 2909\n",
      "8 3068\n",
      "9 3737\n"
     ]
    }
   ],
   "source": [
    "import sys\n",
    "sys.path.append('/home/qing/Desktop/Closed-Loop-Learning/SCAN/data')\n",
    "import augment\n",
    "import json\n",
    "import random\n",
    "import os\n",
    "from PIL import Image, ImageOps\n",
    "\n",
    "random.seed(777)\n",
    "\n",
    "ori_images_dir = 'symbol_images_ori/'\n",
    "new_images_dir = 'symbol_images/'\n",
    "symbol_images_dir = ori_images_dir\n",
    "\n",
    "terminals = ['+', '-', 'times', 'div', '(', ')', '!'] + list(map(str, list(range(10))))\n",
    "sym_train_set = {}\n",
    "sym_val_set = {}\n",
    "sym_test_set = {}\n",
    "for tok in terminals:\n",
    "    imgs = os.listdir(ori_images_dir + tok)\n",
    "    random.shuffle(imgs)\n",
    "    n_train = int(len(imgs) * 0.75)\n",
    "    n_val = int(len(imgs) * 0.05)\n",
    "    sym_train_set[tok] = sorted(imgs[:n_train])\n",
    "    sym_val_set[tok] = sorted(imgs[n_train:n_train+n_val])\n",
    "    sym_test_set[tok] = sorted(imgs[n_train+n_val:])\n",
    "    print(tok, len(imgs))"
   ]
  },
  {
   "cell_type": "code",
   "execution_count": 2,
   "metadata": {},
   "outputs": [],
   "source": [
    "img_transform = augment.Augment(4)\n",
    "\n",
    "class Iterator:\n",
    "    def __init__(self, l, shuffle=True):\n",
    "        if shuffle: \n",
    "            random.shuffle(l)\n",
    "        self.list = l\n",
    "        self.current = -1\n",
    "        self.shuffle = shuffle\n",
    "    \n",
    "    def next(self):\n",
    "        self.current += 1\n",
    "        if self.current == len(self.list):\n",
    "            self.current = 0\n",
    "            if self.shuffle:\n",
    "                random.shuffle(self.list)\n",
    "        return self.list[self.current]\n",
    "\n",
    "splits = ['train', 'val', 'test']\n",
    "split2sym = {}\n",
    "for split in splits:\n",
    "    sym_set = {k:Iterator(v) for k,v in json.load(open('sym_%s.json'%split)).items()}\n",
    "    split2sym[split] = sym_set"
   ]
  },
  {
   "cell_type": "code",
   "execution_count": 30,
   "metadata": {},
   "outputs": [],
   "source": [
    "desired_size = 60\n",
    "\n",
    "def pad_image(img, desired_size, fill=0):\n",
    "    delta_w = desired_size - img.size[0]\n",
    "    delta_h = desired_size - img.size[1]\n",
    "    padding = (delta_w//2, delta_h//2, delta_w-(delta_w//2), delta_h-(delta_h//2))\n",
    "    new_img = ImageOps.expand(img, padding, fill)\n",
    "    return new_img\n",
    "\n",
    "def render_img(img_paths):\n",
    "    images = [pad_image(ImageOps.invert(Image.open(symbol_images_dir + x)), desired_size) for x in img_paths]\n",
    "    widths, heights = zip(*(i.size for i in images))\n",
    "\n",
    "    total_width = sum(widths)\n",
    "    max_height = max(heights)\n",
    "\n",
    "    new_im = Image.new('RGB', (total_width, max_height))\n",
    "\n",
    "    x_offset = 0\n",
    "    for im in images:\n",
    "        new_im.paste(im, (x_offset,0))\n",
    "        x_offset += im.size[0]\n",
    "    return new_im\n",
    "\n",
    "def generate_img_paths(tokens, sym_set):\n",
    "    img_paths = []\n",
    "    for tok in tokens:\n",
    "        if tok == '*': tok = 'times'\n",
    "        if tok == '/': tok = 'div'\n",
    "        \n",
    "        img_name = sym_set[tok].next()\n",
    "        img_paths.append(os.path.join(tok, img_name))   \n",
    "        \n",
    "    return img_paths"
   ]
  },
  {
   "cell_type": "code",
   "execution_count": 31,
   "metadata": {},
   "outputs": [
    {
     "data": {
      "image/png": "[encoded data removed]",
      "text/plain": [
       "<PIL.Image.Image image mode=L size=45x45 at 0x7F9930515FD0>"
      ]
     },
     "metadata": {},
     "output_type": "display_data"
    },
    {
     "name": "stdout",
     "output_type": "stream",
     "text": [
      "(60, 60) L\n"
     ]
    },
    {
     "data": {
      "image/png": "[encoded data removed]",
      "text/plain": [
       "<PIL.Image.Image image mode=L size=60x60 at 0x7F98AE4E7240>"
      ]
     },
     "metadata": {},
     "output_type": "display_data"
    },
    {
     "data": {
      "image/png": "[encoded data removed]",
      "text/plain": [
       "<PIL.Image.Image image mode=L size=60x60 at 0x7F98AE4E7F28>"
      ]
     },
     "metadata": {},
     "output_type": "display_data"
    },
    {
     "data": {
      "image/png": "[encoded data removed]",
      "text/plain": [
       "<PIL.Image.Image image mode=L size=60x60 at 0x7F98AE4E7E48>"
      ]
     },
     "metadata": {},
     "output_type": "display_data"
    },
    {
     "name": "stdout",
     "output_type": "stream",
     "text": [
      "Identity\n"
     ]
    },
    {
     "data": {
      "image/png": "[encoded data removed]",
      "text/plain": [
       "<PIL.Image.Image image mode=L size=60x60 at 0x7F98AE4C6DD8>"
      ]
     },
     "metadata": {},
     "output_type": "display_data"
    },
    {
     "data": {
      "image/png": "[encoded data removed]",
      "text/plain": [
       "<PIL.Image.Image image mode=L size=60x60 at 0x7F98AE4C6DD8>"
      ]
     },
     "metadata": {},
     "output_type": "display_data"
    },
    {
     "data": {
      "image/png": "[encoded data removed]",
      "text/plain": [
       "<PIL.Image.Image image mode=L size=60x60 at 0x7F98AE4C6DD8>"
      ]
     },
     "metadata": {},
     "output_type": "display_data"
    },
    {
     "name": "stdout",
     "output_type": "stream",
     "text": [
      "AutoContrast\n"
     ]
    },
    {
     "data": {
      "image/png": "[encoded data removed]",
      "text/plain": [
       "<PIL.Image.Image image mode=L size=60x60 at 0x7F98AE4C6C88>"
      ]
     },
     "metadata": {},
     "output_type": "display_data"
    },
    {
     "data": {
      "image/png": "[encoded data removed]",
      "text/plain": [
       "<PIL.Image.Image image mode=L size=60x60 at 0x7F98AE4C6DD8>"
      ]
     },
     "metadata": {},
     "output_type": "display_data"
    },
    {
     "data": {
      "image/png": "[encoded data removed]",
      "text/plain": [
       "<PIL.Image.Image image mode=L size=60x60 at 0x7F98AE4C6C88>"
      ]
     },
     "metadata": {},
     "output_type": "display_data"
    },
    {
     "name": "stdout",
     "output_type": "stream",
     "text": [
      "Equalize\n"
     ]
    },
    {
     "data": {
      "image/png": "[encoded data removed]",
      "text/plain": [
       "<PIL.Image.Image image mode=L size=60x60 at 0x7F98AE4E7F28>"
      ]
     },
     "metadata": {},
     "output_type": "display_data"
    },
    {
     "data": {
      "image/png": "[encoded data removed]",
      "text/plain": [
       "<PIL.Image.Image image mode=L size=60x60 at 0x7F98AE4E7F28>"
      ]
     },
     "metadata": {},
     "output_type": "display_data"
    },
    {
     "data": {
      "image/png": "[encoded data removed]",
      "text/plain": [
       "<PIL.Image.Image image mode=L size=60x60 at 0x7F98AE4E7F28>"
      ]
     },
     "metadata": {},
     "output_type": "display_data"
    },
    {
     "name": "stdout",
     "output_type": "stream",
     "text": [
      "Rotate\n"
     ]
    },
    {
     "data": {
      "image/png": "[encoded data removed]",
      "text/plain": [
       "<PIL.Image.Image image mode=L size=60x60 at 0x7F98AE4E7F28>"
      ]
     },
     "metadata": {},
     "output_type": "display_data"
    },
    {
     "data": {
      "image/png": "[encoded data removed]",
      "text/plain": [
       "<PIL.Image.Image image mode=L size=60x60 at 0x7F98AE4C6DD8>"
      ]
     },
     "metadata": {},
     "output_type": "display_data"
    },
    {
     "data": {
      "image/png": "[encoded data removed]",
      "text/plain": [
       "<PIL.Image.Image image mode=L size=60x60 at 0x7F98AE4E7F28>"
      ]
     },
     "metadata": {},
     "output_type": "display_data"
    },
    {
     "name": "stdout",
     "output_type": "stream",
     "text": [
      "Solarize\n"
     ]
    },
    {
     "data": {
      "image/png": "[encoded data removed]",
      "text/plain": [
       "<PIL.Image.Image image mode=L size=60x60 at 0x7F98AE4C6C88>"
      ]
     },
     "metadata": {},
     "output_type": "display_data"
    },
    {
     "data": {
      "image/png": "[encoded data removed]",
      "text/plain": [
       "<PIL.Image.Image image mode=L size=60x60 at 0x7F98AE4C6DD8>"
      ]
     },
     "metadata": {},
     "output_type": "display_data"
    },
    {
     "data": {
      "image/png": "[encoded data removed]",
      "text/plain": [
       "<PIL.Image.Image image mode=L size=60x60 at 0x7F98AE4C6C88>"
      ]
     },
     "metadata": {},
     "output_type": "display_data"
    },
    {
     "name": "stdout",
     "output_type": "stream",
     "text": [
      "Color\n"
     ]
    },
    {
     "data": {
      "image/png": "[encoded data removed]",
      "text/plain": [
       "<PIL.Image.Image image mode=L size=60x60 at 0x7F98AE4E7A90>"
      ]
     },
     "metadata": {},
     "output_type": "display_data"
    },
    {
     "data": {
      "image/png": "[encoded data removed]",
      "text/plain": [
       "<PIL.Image.Image image mode=L size=60x60 at 0x7F98AE4E7A90>"
      ]
     },
     "metadata": {},
     "output_type": "display_data"
    },
    {
     "data": {
      "image/png": "[encoded data removed]",
      "text/plain": [
       "<PIL.Image.Image image mode=L size=60x60 at 0x7F98AE4E7A90>"
      ]
     },
     "metadata": {},
     "output_type": "display_data"
    },
    {
     "name": "stdout",
     "output_type": "stream",
     "text": [
      "Contrast\n"
     ]
    },
    {
     "data": {
      "image/png": "[encoded data removed]",
      "text/plain": [
       "<PIL.Image.Image image mode=L size=60x60 at 0x7F98AE4E7A90>"
      ]
     },
     "metadata": {},
     "output_type": "display_data"
    },
    {
     "data": {
      "image/png": "[encoded data removed]",
      "text/plain": [
       "<PIL.Image.Image image mode=L size=60x60 at 0x7F98AE4E7A90>"
      ]
     },
     "metadata": {},
     "output_type": "display_data"
    },
    {
     "data": {
      "image/png": "[encoded data removed]",
      "text/plain": [
       "<PIL.Image.Image image mode=L size=60x60 at 0x7F98AE4E7A90>"
      ]
     },
     "metadata": {},
     "output_type": "display_data"
    },
    {
     "name": "stdout",
     "output_type": "stream",
     "text": [
      "Brightness\n"
     ]
    },
    {
     "data": {
      "image/png": "[encoded data removed]",
      "text/plain": [
       "<PIL.Image.Image image mode=L size=60x60 at 0x7F98AE4E7A90>"
      ]
     },
     "metadata": {},
     "output_type": "display_data"
    },
    {
     "data": {
      "image/png": "[encoded data removed]",
      "text/plain": [
       "<PIL.Image.Image image mode=L size=60x60 at 0x7F98AE4E7A90>"
      ]
     },
     "metadata": {},
     "output_type": "display_data"
    },
    {
     "data": {
      "image/png": "[encoded data removed]",
      "text/plain": [
       "<PIL.Image.Image image mode=L size=60x60 at 0x7F98AE4E7A90>"
      ]
     },
     "metadata": {},
     "output_type": "display_data"
    },
    {
     "name": "stdout",
     "output_type": "stream",
     "text": [
      "Sharpness\n"
     ]
    },
    {
     "data": {
      "image/png": "[encoded data removed]",
      "text/plain": [
       "<PIL.Image.Image image mode=L size=60x60 at 0x7F98AE4E7A90>"
      ]
     },
     "metadata": {},
     "output_type": "display_data"
    },
    {
     "data": {
      "image/png": "[encoded data removed]",
      "text/plain": [
       "<PIL.Image.Image image mode=L size=60x60 at 0x7F98AE4E7A90>"
      ]
     },
     "metadata": {},
     "output_type": "display_data"
    },
    {
     "data": {
      "image/png": "[encoded data removed]",
      "text/plain": [
       "<PIL.Image.Image image mode=L size=60x60 at 0x7F98AE4E7A90>"
      ]
     },
     "metadata": {},
     "output_type": "display_data"
    },
    {
     "name": "stdout",
     "output_type": "stream",
     "text": [
      "ShearX\n"
     ]
    },
    {
     "data": {
      "image/png": "[encoded data removed]",
      "text/plain": [
       "<PIL.Image.Image image mode=L size=60x60 at 0x7F98AE4E7A90>"
      ]
     },
     "metadata": {},
     "output_type": "display_data"
    },
    {
     "data": {
      "image/png": "[encoded data removed]",
      "text/plain": [
       "<PIL.Image.Image image mode=L size=60x60 at 0x7F98AE4E7A90>"
      ]
     },
     "metadata": {},
     "output_type": "display_data"
    },
    {
     "data": {
      "image/png": "[encoded data removed]",
      "text/plain": [
       "<PIL.Image.Image image mode=L size=60x60 at 0x7F98AE4E7A90>"
      ]
     },
     "metadata": {},
     "output_type": "display_data"
    },
    {
     "name": "stdout",
     "output_type": "stream",
     "text": [
      "TranslateX\n"
     ]
    },
    {
     "data": {
      "image/png": "[encoded data removed]",
      "text/plain": [
       "<PIL.Image.Image image mode=L size=60x60 at 0x7F98AE4E7A90>"
      ]
     },
     "metadata": {},
     "output_type": "display_data"
    },
    {
     "data": {
      "image/png": "[encoded data removed]",
      "text/plain": [
       "<PIL.Image.Image image mode=L size=60x60 at 0x7F98AE4E7A90>"
      ]
     },
     "metadata": {},
     "output_type": "display_data"
    },
    {
     "data": {
      "image/png": "[encoded data removed]",
      "text/plain": [
       "<PIL.Image.Image image mode=L size=60x60 at 0x7F98AE4E7A90>"
      ]
     },
     "metadata": {},
     "output_type": "display_data"
    },
    {
     "name": "stdout",
     "output_type": "stream",
     "text": [
      "TranslateY\n"
     ]
    },
    {
     "data": {
      "image/png": "[encoded data removed]",
      "text/plain": [
       "<PIL.Image.Image image mode=L size=60x60 at 0x7F98AE4E7A90>"
      ]
     },
     "metadata": {},
     "output_type": "display_data"
    },
    {
     "data": {
      "image/png": "[encoded data removed]",
      "text/plain": [
       "<PIL.Image.Image image mode=L size=60x60 at 0x7F98AE4E7A90>"
      ]
     },
     "metadata": {},
     "output_type": "display_data"
    },
    {
     "data": {
      "image/png": "[encoded data removed]",
      "text/plain": [
       "<PIL.Image.Image image mode=L size=60x60 at 0x7F98AE4E7A90>"
      ]
     },
     "metadata": {},
     "output_type": "display_data"
    },
    {
     "name": "stdout",
     "output_type": "stream",
     "text": [
      "Posterize\n"
     ]
    },
    {
     "data": {
      "image/png": "[encoded data removed]",
      "text/plain": [
       "<PIL.Image.Image image mode=L size=60x60 at 0x7F98AE4E7A90>"
      ]
     },
     "metadata": {},
     "output_type": "display_data"
    },
    {
     "data": {
      "image/png": "[encoded data removed]",
      "text/plain": [
       "<PIL.Image.Image image mode=L size=60x60 at 0x7F98AE4C6DD8>"
      ]
     },
     "metadata": {},
     "output_type": "display_data"
    },
    {
     "data": {
      "image/png": "[encoded data removed]",
      "text/plain": [
       "<PIL.Image.Image image mode=L size=60x60 at 0x7F98AE4E7A90>"
      ]
     },
     "metadata": {},
     "output_type": "display_data"
    },
    {
     "name": "stdout",
     "output_type": "stream",
     "text": [
      "ShearY\n"
     ]
    },
    {
     "data": {
      "image/png": "[encoded data removed]",
      "text/plain": [
       "<PIL.Image.Image image mode=L size=60x60 at 0x7F98AE4E7A90>"
      ]
     },
     "metadata": {},
     "output_type": "display_data"
    },
    {
     "data": {
      "image/png": "[encoded data removed]",
      "text/plain": [
       "<PIL.Image.Image image mode=L size=60x60 at 0x7F98AE4E7A90>"
      ]
     },
     "metadata": {},
     "output_type": "display_data"
    },
    {
     "data": {
      "image/png": "[encoded data removed]",
      "text/plain": [
       "<PIL.Image.Image image mode=L size=60x60 at 0x7F98AE4E7F28>"
      ]
     },
     "metadata": {},
     "output_type": "display_data"
    },
    {
     "name": "stdout",
     "output_type": "stream",
     "text": [
      "7/1/7-2 = -1.0\n"
     ]
    },
    {
     "data": {
      "image/png": "[encoded data removed]",
      "text/plain": [
       "<PIL.Image.Image image mode=RGB size=420x60 at 0x7F98AE4E7CF8>"
      ]
     },
     "metadata": {},
     "output_type": "display_data"
    }
   ],
   "source": [
    "img = Image.open(symbol_images_dir + '2/2_849.jpg').convert('L')\n",
    "img = ImageOps.invert(img)\n",
    "display(img)\n",
    "img = pad_image(img, desired_size)\n",
    "print(img.size, img.mode)\n",
    "display(img)\n",
    "display(img_transform(img))\n",
    "display(augment.apply_augment(img, 'Rotate', 0))\n",
    "for aug_name in augment.augment_dict:\n",
    "    print(aug_name)\n",
    "    display(augment.apply_augment(img, aug_name, 0))\n",
    "    display(augment.apply_augment(img, aug_name, 0.5))\n",
    "    display(augment.apply_augment(img, aug_name, 1))\n",
    "\n",
    "expr = '7/1/7-2'\n",
    "img_paths = generate_img_paths(expr, sym_set=sym_set)\n",
    "img = render_img(img_paths)\n",
    "print(expr,'=', eval(expr))\n",
    "display(img)"
   ]
  },
  {
   "cell_type": "code",
   "execution_count": null,
   "metadata": {},
   "outputs": [],
   "source": []
  }
 ],
 "metadata": {
  "kernelspec": {
   "display_name": "cll",
   "language": "python",
   "name": "cll"
  },
  "language_info": {
   "codemirror_mode": {
    "name": "ipython",
    "version": 3
   },
   "file_extension": ".py",
   "mimetype": "text/x-python",
   "name": "python",
   "nbconvert_exporter": "python",
   "pygments_lexer": "ipython3",
   "version": "3.6.12"
  }
 },
 "nbformat": 4,
 "nbformat_minor": 4
}
